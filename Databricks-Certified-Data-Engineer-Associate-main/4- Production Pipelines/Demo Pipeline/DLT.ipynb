{
 "cells": [
  {
   "cell_type": "markdown",
   "metadata": {
    "application/vnd.databricks.v1+cell": {
     "cellMetadata": {},
     "inputWidgets": {},
     "nuid": "7ed0e9ac-178f-4224-bfb2-a12da694ccc9",
     "showTitle": false,
     "tableResultSettingsMap": {},
     "title": ""
    }
   },
   "source": [
    "# Delta Live Tables - Bookstore Pipeline\n",
    "\n",
    "This notebook defines the Bronze, Silver, and Gold layers of our DLT pipeline for the Bookstore data."
   ]
  },
  {
   "cell_type": "markdown",
   "metadata": {
    "application/vnd.databricks.v1+cell": {
     "cellMetadata": {},
     "inputWidgets": {},
     "nuid": "a19b6df0-2644-4fbb-b76d-c537b23cb238",
     "showTitle": false,
     "tableResultSettingsMap": {},
     "title": ""
    }
   },
   "source": [
    "## SETUP"
   ]
  },
  {
   "cell_type": "code",
   "execution_count": 0,
   "metadata": {
    "application/vnd.databricks.v1+cell": {
     "cellMetadata": {
      "byteLimit": 2048000,
      "rowLimit": 10000
     },
     "inputWidgets": {},
     "nuid": "5ea9362b-b940-43fb-aadf-0a8e98f6058c",
     "showTitle": false,
     "tableResultSettingsMap": {},
     "title": ""
    }
   },
   "outputs": [],
   "source": [
    "-- SET Var_Catalog_Name = 'default';\n",
    "-- SET Var_Schema_Name = 'default';\n",
    "-- SET Var_Target_DLT_Schema = 'default';"
   ]
  },
  {
   "cell_type": "code",
   "execution_count": 0,
   "metadata": {
    "application/vnd.databricks.v1+cell": {
     "cellMetadata": {
      "byteLimit": 2048000,
      "rowLimit": 10000
     },
     "inputWidgets": {},
     "nuid": "368724c5-7c8f-4eea-8455-d7c26c66f0bb",
     "showTitle": false,
     "tableResultSettingsMap": {},
     "title": ""
    }
   },
   "outputs": [],
   "source": [
    "-- Set the current catalog and schema for DLT output.\n",
    "-- USE CATALOG ${Var_Catalog_Name};\n",
    "-- USE SCHEMA ${Var_Target_DLT_Schema};\n",
    "\n",
    "USE CATALOG default;\n",
    "USE SCHEMA default;"
   ]
  },
  {
   "cell_type": "markdown",
   "metadata": {
    "application/vnd.databricks.v1+cell": {
     "cellMetadata": {
      "byteLimit": 2048000,
      "rowLimit": 10000
     },
     "inputWidgets": {},
     "nuid": "0ec73e13-6764-4d91-802b-d7573d2733cc",
     "showTitle": false,
     "tableResultSettingsMap": {},
     "title": ""
    }
   },
   "source": [
    "\n",
    "## Bronze Layer\n",
    "\n",
    "Raw data ingestion"
   ]
  },
  {
   "cell_type": "code",
   "execution_count": 0,
   "metadata": {
    "application/vnd.databricks.v1+cell": {
     "cellMetadata": {
      "byteLimit": 2048000,
      "rowLimit": 10000
     },
     "inputWidgets": {},
     "nuid": "b8a422bd-70be-4be5-8b86-00469421dd07",
     "showTitle": false,
     "tableResultSettingsMap": {},
     "title": ""
    }
   },
   "outputs": [],
   "source": [
    "CREATE OR REFRESH LIVE TABLE bronze_books\n",
    "COMMENT \"Raw books data ingested from Unity Catalog table.\"\n",
    "AS SELECT * FROM default.default.books_raw;"
   ]
  },
  {
   "cell_type": "code",
   "execution_count": 0,
   "metadata": {
    "application/vnd.databricks.v1+cell": {
     "cellMetadata": {
      "byteLimit": 2048000,
      "rowLimit": 10000
     },
     "inputWidgets": {},
     "nuid": "d081df75-0548-47da-baca-64d2c0738180",
     "showTitle": false,
     "tableResultSettingsMap": {},
     "title": ""
    }
   },
   "outputs": [],
   "source": [
    "CREATE OR REFRESH LIVE TABLE bronze_customers\n",
    "COMMENT \"Raw customers data ingested from Unity Catalog table.\"\n",
    "AS SELECT * FROM default.default.customers_raw;"
   ]
  },
  {
   "cell_type": "code",
   "execution_count": 0,
   "metadata": {
    "application/vnd.databricks.v1+cell": {
     "cellMetadata": {
      "byteLimit": 2048000,
      "rowLimit": 10000
     },
     "inputWidgets": {},
     "nuid": "bc952473-f566-4186-84cf-edb141b3588a",
     "showTitle": false,
     "tableResultSettingsMap": {},
     "title": ""
    }
   },
   "outputs": [],
   "source": [
    "CREATE OR REFRESH LIVE TABLE bronze_orders\n",
    "COMMENT \"Raw orders data ingested from Unity Catalog table.\"\n",
    "AS SELECT * FROM default.default.orders_raw;"
   ]
  },
  {
   "cell_type": "markdown",
   "metadata": {
    "application/vnd.databricks.v1+cell": {
     "cellMetadata": {},
     "inputWidgets": {},
     "nuid": "fc2b8584-21b2-4a30-a592-0b94ffc5cfdc",
     "showTitle": false,
     "tableResultSettingsMap": {},
     "title": ""
    }
   },
   "source": [
    "\n",
    "## Silver Layer \n",
    "\n",
    "The cleaned books orders with only the orders with a valid id"
   ]
  },
  {
   "cell_type": "code",
   "execution_count": 0,
   "metadata": {
    "application/vnd.databricks.v1+cell": {
     "cellMetadata": {
      "byteLimit": 2048000,
      "rowLimit": 10000
     },
     "inputWidgets": {},
     "nuid": "6fc5d818-2711-4d74-8650-cbf6dd3e7503",
     "showTitle": false,
     "tableResultSettingsMap": {},
     "title": ""
    }
   },
   "outputs": [],
   "source": [
    "CREATE OR REFRESH LIVE TABLE silver_orders_cleaned (\n",
    "  CONSTRAINT valid_order_number EXPECT (order_id IS NOT NULL) ON VIOLATION DROP ROW\n",
    ")\n",
    "COMMENT \"Cleaned orders data, with valid order_ids and enriched customer details.\"\n",
    "AS\n",
    "  SELECT\n",
    "    o.order_id,\n",
    "    o.timestamp, -- Original timestamp from raw orders\n",
    "    o.customer_id,\n",
    "    o.quantity AS order_total_quantity, -- Total quantity of all books in this specific order\n",
    "    o.total AS order_total_price,       -- Total price of this specific order\n",
    "    o.books, -- The array of structs: [{\"book_id\": x, \"quantity\": y}, ...]\n",
    "    c.email, -- Adding customer email for Gold layer filtering\n",
    "    c.profile:first_name AS f_name,\n",
    "    c.profile:last_name AS l_name\n",
    "  FROM LIVE.bronze_orders AS o\n",
    "  INNER JOIN LIVE.bronze_customers AS c\n",
    "    ON o.customer_id = c.customer_id\n",
    "  WHERE\n",
    "    o.order_id IS NOT NULL -- Ensure order_id is not null (redundant with expectation but good for clarity)\n",
    "    ;\n"
   ]
  },
  {
   "cell_type": "markdown",
   "metadata": {
    "application/vnd.databricks.v1+cell": {
     "cellMetadata": {},
     "inputWidgets": {},
     "nuid": "c2018168-3ecb-4457-bd92-52d5b109d21a",
     "showTitle": false,
     "tableResultSettingsMap": {},
     "title": ""
    }
   },
   "source": [
    "> Constraint violation\n",
    "| **`ON VIOLATION`** | Behavior |\n",
    "| --- | --- |\n",
    "| **`DROP ROW`** | Discard records that violate constraints |\n",
    "| **`FAIL UPDATE`** | Violated constraint causes the pipeline to fail  |\n",
    "| Omitted | Records violating constraints will be kept, and reported in metrics |\n"
   ]
  },
  {
   "cell_type": "markdown",
   "metadata": {
    "application/vnd.databricks.v1+cell": {
     "cellMetadata": {},
     "inputWidgets": {},
     "nuid": "87761910-d9bf-45dd-a309-2b141e52d6e0",
     "showTitle": false,
     "tableResultSettingsMap": {},
     "title": ""
    }
   },
   "source": [
    "\n",
    "## Gold Layer\n",
    "\n",
    "\"The daily number of books per customer having an email finishing with 'mail.org' \""
   ]
  },
  {
   "cell_type": "code",
   "execution_count": 0,
   "metadata": {
    "application/vnd.databricks.v1+cell": {
     "cellMetadata": {
      "byteLimit": 2048000,
      "rowLimit": 10000
     },
     "inputWidgets": {},
     "nuid": "37560298-5331-461d-9da0-a0f5b6777700",
     "showTitle": false,
     "tableResultSettingsMap": {},
     "title": ""
    }
   },
   "outputs": [],
   "source": [
    "\n",
    "CREATE OR REFRESH LIVE TABLE gold_daily_books_mail_org_customers\n",
    "COMMENT \"Daily number of books ordered by customers with email ending in 'mail.org'.\"\n",
    "AS\n",
    "  SELECT\n",
    "    sc.customer_id,\n",
    "    sc.email AS customer_email,\n",
    "    CAST(sc.timestamp AS DATE) AS order_date, -- Extract date from order timestamp\n",
    "    SUM(book_detail.quantity) AS total_books_ordered_daily -- Sum of individual book quantities from exploded array\n",
    "  FROM LIVE.silver_orders_cleaned AS sc\n",
    "  LATERAL VIEW EXPLODE(sc.books) exploded_books_view AS book_detail -- Flatten the 'books' array (each book item in the order becomes a new row)\n",
    "  WHERE sc.email LIKE '%mail.org'\n",
    "  GROUP BY\n",
    "    sc.customer_id,\n",
    "    sc.email,\n",
    "    CAST(sc.timestamp AS DATE); -- Group by customer and order date to get daily totals\n"
   ]
  },
  {
   "cell_type": "markdown",
   "metadata": {
    "application/vnd.databricks.v1+cell": {
     "cellMetadata": {},
     "inputWidgets": {},
     "nuid": "80639f01-014a-4436-946e-4db64efec097",
     "showTitle": false,
     "tableResultSettingsMap": {},
     "title": ""
    }
   },
   "source": [
    "Now that we have the complete DLT pipeline code covering Bronze, Silver, and Gold layers!\n",
    "\n",
    "The final step is to create and run the DLT pipeline in the Databricks UI."
   ]
  }
 ],
 "metadata": {
  "application/vnd.databricks.v1+notebook": {
   "computePreferences": null,
   "dashboards": [],
   "environmentMetadata": {
    "base_environment": "",
    "environment_version": "2"
   },
   "inputWidgetPreferences": null,
   "language": "sql",
   "notebookMetadata": {
    "pythonIndentUnit": 4
   },
   "notebookName": "DLT",
   "widgets": {}
  },
  "language_info": {
   "name": "sql"
  }
 },
 "nbformat": 4,
 "nbformat_minor": 0
}
