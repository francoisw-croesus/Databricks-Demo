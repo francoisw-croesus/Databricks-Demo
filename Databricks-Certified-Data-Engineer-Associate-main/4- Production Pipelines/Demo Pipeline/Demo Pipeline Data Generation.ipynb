{
 "cells": [
  {
   "cell_type": "markdown",
   "metadata": {
    "application/vnd.databricks.v1+cell": {
     "cellMetadata": {},
     "inputWidgets": {},
     "nuid": "c19fde46-a85a-43c9-9b4f-c7f37d3d3405",
     "showTitle": false,
     "tableResultSettingsMap": {},
     "title": ""
    }
   },
   "source": [
    "\n",
    "## Data creation\n",
    "\n",
    "The following block creates the sample datasets in Python, which we can then use within a Databricks notebook to create initial Delta tables."
   ]
  },
  {
   "cell_type": "code",
   "execution_count": 0,
   "metadata": {
    "application/vnd.databricks.v1+cell": {
     "cellMetadata": {
      "byteLimit": 2048000,
      "rowLimit": 10000
     },
     "inputWidgets": {},
     "nuid": "8e53a804-e045-497c-bdd5-1e3372e6e95f",
     "showTitle": false,
     "tableResultSettingsMap": {},
     "title": ""
    }
   },
   "outputs": [],
   "source": [
    "\n",
    "import random\n",
    "from datetime import datetime, timedelta\n",
    "\n",
    "# --- 1. Generate Books Data (10 books) ---\n",
    "books_data = []\n",
    "book_titles = [\n",
    "    \"The Hitchhiker's Guide to the Galaxy\", \"Pride and Prejudice\", \"1984\",\n",
    "    \"To Kill a Mockingbird\", \"The Great Gatsby\", \"Moby Dick\",\n",
    "    \"War and Peace\", \"The Catcher in the Rye\", \"Lord of the Rings\",\n",
    "    \"Dune\"\n",
    "]\n",
    "book_authors = [\n",
    "    \"Douglas Adams\", \"Jane Austen\", \"George Orwell\", \"Harper Lee\",\n",
    "    \"F. Scott Fitzgerald\", \"Herman Melville\", \"Leo Tolstoy\",\n",
    "    \"J.D. Salinger\", \"J.R.R. Tolkien\", \"Frank Herbert\"\n",
    "]\n",
    "book_categories = [\n",
    "    \"Science Fiction\", \"Classic\", \"Dystopian\", \"Fiction\", \"Fantasy\", \"Adventure\"\n",
    "]\n",
    "\n",
    "for i in range(1, 11): # 10 books\n",
    "    books_data.append({\n",
    "        \"book_id\": i,\n",
    "        \"title\": book_titles[i-1],\n",
    "        \"author\": book_authors[i-1],\n",
    "        \"category\": random.choice(book_categories),\n",
    "        \"price\": round(random.uniform(9.99, 39.99), 2)\n",
    "    })\n",
    "\n",
    "print(\"--- Books Data ---\")\n",
    "for book in books_data:\n",
    "    print(book)\n",
    "print(\"\\n\")\n",
    "\n",
    "\n",
    "# --- 2. Generate Customers Data (12 clients) ---\n",
    "customers_data = []\n",
    "domains = [\"example.com\", \"mail.org\", \"service.net\", \"test.io\"]\n",
    "\n",
    "for i in range(1, 13): # 12 clients\n",
    "    customer_id = i\n",
    "    email = f\"customer_{customer_id}@{random.choice(domains)}\"\n",
    "    profile = f\"Profile details for customer {customer_id}.\"\n",
    "    updated = (datetime.now() - timedelta(days=random.randint(1, 365))).strftime(\"%Y-%m-%d %H:%M:%S\")\n",
    "    customers_data.append({\n",
    "        \"customer_id\": customer_id,\n",
    "        \"email\": email,\n",
    "        \"profile\": profile,\n",
    "        \"updated\": updated\n",
    "    })\n",
    "\n",
    "print(\"--- Customers Data ---\")\n",
    "for customer in customers_data:\n",
    "    print(customer)\n",
    "print(\"\\n\")\n",
    "\n",
    "\n",
    "# --- 3. Generate Orders Data (20 orders) ---\n",
    "orders_data = []\n",
    "\n",
    "# Get lists of available customer_ids and book_ids\n",
    "available_customer_ids = [c[\"customer_id\"] for c in customers_data]\n",
    "available_book_ids = [b[\"book_id\"] for b in books_data]\n",
    "\n",
    "for i in range(1, 21): # 20 orders\n",
    "    order_id = i\n",
    "    timestamp = (datetime.now() - timedelta(days=random.randint(1, 30), hours=random.randint(0, 23), minutes=random.randint(0, 59))).strftime(\"%Y-%m-%d %H:%M:%S\")\n",
    "    \n",
    "    customer_id = random.choice(available_customer_ids)\n",
    "    \n",
    "    # Randomly select 1 to 3 books for the order\n",
    "    num_books_in_order = random.randint(1, 3)\n",
    "    selected_book_ids = random.sample(available_book_ids, min(num_books_in_order, len(available_book_ids)))\n",
    "    \n",
    "    # Calculate quantity and total\n",
    "    total_quantity = 0\n",
    "    total_price = 0.0\n",
    "    \n",
    "    # For the 'books' field in orders, we will store a list of book_ids and their quantity within that order\n",
    "    # This is a common approach when dealing with many-to-many relationships within a single order record.\n",
    "    ordered_books_details = []\n",
    "    for book_id in selected_book_ids:\n",
    "        book_price = next(b[\"price\"] for b in books_data if b[\"book_id\"] == book_id)\n",
    "        item_quantity = random.randint(1, 2) # Each book in the order can have 1 or 2 copies\n",
    "        total_quantity += item_quantity\n",
    "        total_price += (book_price * item_quantity)\n",
    "        ordered_books_details.append({\"book_id\": book_id, \"quantity\": item_quantity})\n",
    "\n",
    "    orders_data.append({\n",
    "        \"order_id\": order_id,\n",
    "        \"timestamp\": timestamp,\n",
    "        \"customer_id\": customer_id,\n",
    "        \"quantity\": total_quantity, # Total items in this order\n",
    "        \"total\": round(total_price, 2),\n",
    "        \"books\": ordered_books_details # Array of structs: [{\"book_id\": x, \"quantity\": y}, ...]\n",
    "    })\n",
    "\n",
    "print(\"--- Orders Data ---\")\n",
    "for order in orders_data:\n",
    "    print(order)\n",
    "print(\"\\n\")"
   ]
  },
  {
   "cell_type": "markdown",
   "metadata": {
    "application/vnd.databricks.v1+cell": {
     "cellMetadata": {},
     "inputWidgets": {},
     "nuid": "a295c99f-02c9-4f0e-9b19-a7afdf2af573",
     "showTitle": false,
     "tableResultSettingsMap": {},
     "title": ""
    }
   },
   "source": [
    "\n",
    "## Create Spark DataFrame\n",
    "\n",
    "Using Spark to create DataFrames from these Python lists generated above"
   ]
  },
  {
   "cell_type": "code",
   "execution_count": 0,
   "metadata": {
    "application/vnd.databricks.v1+cell": {
     "cellMetadata": {
      "byteLimit": 2048000,
      "rowLimit": 10000
     },
     "inputWidgets": {},
     "nuid": "e64af05c-1f01-4cbd-8cbd-c04706cc91a6",
     "showTitle": false,
     "tableResultSettingsMap": {},
     "title": ""
    }
   },
   "outputs": [],
   "source": [
    "# Create Spark DataFrames\n",
    "df_books = spark.createDataFrame(books_data)\n",
    "df_customers = spark.createDataFrame(customers_data)\n",
    "df_orders = spark.createDataFrame(orders_data)\n",
    "\n",
    "print(\"Schema for Books DataFrame:\")\n",
    "df_books.printSchema()\n",
    "print(\"\\nSchema for Customers DataFrame:\")\n",
    "df_customers.printSchema()\n",
    "print(\"\\nSchema for Orders DataFrame:\")\n",
    "df_orders.printSchema()\n",
    "\n",
    "print(\"\\nSample Books Data:\")\n",
    "df_books.display()\n",
    "print(\"\\nSample Customers Data:\")\n",
    "df_customers.display()\n",
    "print(\"\\nSample Orders Data:\")\n",
    "df_orders.display()"
   ]
  },
  {
   "cell_type": "markdown",
   "metadata": {
    "application/vnd.databricks.v1+cell": {
     "cellMetadata": {},
     "inputWidgets": {},
     "nuid": "5fc5f7ce-112f-489a-94b6-c4dc18b27a1b",
     "showTitle": false,
     "tableResultSettingsMap": {},
     "title": ""
    }
   },
   "source": [
    "\n",
    "## Save as Delta Tables"
   ]
  },
  {
   "cell_type": "code",
   "execution_count": 0,
   "metadata": {
    "application/vnd.databricks.v1+cell": {
     "cellMetadata": {
      "byteLimit": 2048000,
      "rowLimit": 10000
     },
     "inputWidgets": {},
     "nuid": "1bb0ae18-9681-4311-80b0-efb455e9e72c",
     "showTitle": false,
     "tableResultSettingsMap": {},
     "title": ""
    }
   },
   "outputs": [],
   "source": [
    "# Define your Unity Catalog target\n",
    "catalog_name = \"default\" \n",
    "schema_name = \"default\"  \n",
    "\n",
    "# Save as Delta tables in Unity Catalog\n",
    "df_books.write.mode(\"overwrite\").saveAsTable(f\"{catalog_name}.{schema_name}.books_raw\")\n",
    "df_customers.write.mode(\"overwrite\").saveAsTable(f\"{catalog_name}.{schema_name}.customers_raw\")\n",
    "df_orders.write.mode(\"overwrite\").saveAsTable(f\"{catalog_name}.{schema_name}.orders_raw\")\n",
    "\n",
    "print(f\"Data saved to Unity Catalog tables in {catalog_name}.{schema_name}:\")\n",
    "print(f\"- {catalog_name}.{schema_name}.books_raw\")\n",
    "print(f\"- {catalog_name}.{schema_name}.customers_raw\")\n",
    "print(f\"- {catalog_name}.{schema_name}.orders_raw\")"
   ]
  }
 ],
 "metadata": {
  "application/vnd.databricks.v1+notebook": {
   "computePreferences": null,
   "dashboards": [],
   "environmentMetadata": {
    "base_environment": "",
    "environment_version": "2"
   },
   "inputWidgetPreferences": null,
   "language": "python",
   "notebookMetadata": {
    "pythonIndentUnit": 4
   },
   "notebookName": "Demo Pipeline Data Generation",
   "widgets": {}
  },
  "language_info": {
   "name": "python"
  }
 },
 "nbformat": 4,
 "nbformat_minor": 0
}
